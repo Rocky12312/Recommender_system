{
 "cells": [
  {
   "cell_type": "markdown",
   "metadata": {
    "colab_type": "text",
    "id": "view-in-github"
   },
   "source": [
    "<a href=\"https://colab.research.google.com/github/Rocky12312/Movie_recommendation_engine/blob/master/Recommender_systems_using_collaborative_filtering.ipynb\" target=\"_parent\"><img src=\"https://colab.research.google.com/assets/colab-badge.svg\" alt=\"Open In Colab\"/></a>"
   ]
  },
  {
   "cell_type": "code",
   "execution_count": 1,
   "metadata": {
    "colab": {
     "base_uri": "https://localhost:8080/",
     "height": 34
    },
    "colab_type": "code",
    "id": "6JDuPSCLLri4",
    "outputId": "e0ee39d9-81b8-439e-e94a-75d983be4f7e"
   },
   "outputs": [
    {
     "name": "stdout",
     "output_type": "stream",
     "text": [
      "Drive already mounted at /content/drive; to attempt to forcibly remount, call drive.mount(\"/content/drive\", force_remount=True).\n"
     ]
    }
   ],
   "source": [
    "from google.colab import drive\n",
    "drive.mount(\"/content/drive\")"
   ]
  },
  {
   "cell_type": "code",
   "execution_count": 2,
   "metadata": {
    "colab": {
     "base_uri": "https://localhost:8080/",
     "height": 34
    },
    "colab_type": "code",
    "id": "dUPcdfirMJvK",
    "outputId": "1a567462-73cd-49d9-ee42-8975f3d1738e"
   },
   "outputs": [
    {
     "name": "stdout",
     "output_type": "stream",
     "text": [
      "/content/drive/My Drive/Recommender_systems/Collaborative_based_f\n"
     ]
    }
   ],
   "source": [
    "cd /content/drive/My\\ Drive/Recommender_systems/Collaborative_based_f"
   ]
  },
  {
   "cell_type": "markdown",
   "metadata": {
    "colab_type": "text",
    "id": "Wn6VBWupMTuX"
   },
   "source": [
    "Importing necessary required libraries"
   ]
  },
  {
   "cell_type": "code",
   "execution_count": 3,
   "metadata": {
    "colab": {},
    "colab_type": "code",
    "id": "afmc9bJMMPok"
   },
   "outputs": [],
   "source": [
    "import os\n",
    "import sys\n",
    "import re\n",
    "import csv\n",
    "import math\n",
    "import random\n",
    "import numpy as np\n",
    "import pandas as pd\n",
    "from collections import defaultdict"
   ]
  },
  {
   "cell_type": "markdown",
   "metadata": {
    "colab_type": "text",
    "id": "r3pICM5kMyon"
   },
   "source": [
    "Here we will be using surprise library for building the recommender system.\n",
    "Surprise is a Python scikit for recommender systems.\n",
    "\n",
    "Link to surprise documentation and it is best practice to explore the documentation of python libraries- http://surpriselib.com/"
   ]
  },
  {
   "cell_type": "code",
   "execution_count": 4,
   "metadata": {
    "colab": {
     "base_uri": "https://localhost:8080/",
     "height": 121
    },
    "colab_type": "code",
    "id": "0RENRIckMx4-",
    "outputId": "6df482bb-f508-4f3b-ff89-dfe34668846d"
   },
   "outputs": [
    {
     "name": "stdout",
     "output_type": "stream",
     "text": [
      "Requirement already satisfied: surprise in /usr/local/lib/python3.6/dist-packages (0.1)\n",
      "Requirement already satisfied: scikit-surprise in /usr/local/lib/python3.6/dist-packages (from surprise) (1.1.1)\n",
      "Requirement already satisfied: joblib>=0.11 in /usr/local/lib/python3.6/dist-packages (from scikit-surprise->surprise) (0.16.0)\n",
      "Requirement already satisfied: six>=1.10.0 in /usr/local/lib/python3.6/dist-packages (from scikit-surprise->surprise) (1.12.0)\n",
      "Requirement already satisfied: scipy>=1.0.0 in /usr/local/lib/python3.6/dist-packages (from scikit-surprise->surprise) (1.4.1)\n",
      "Requirement already satisfied: numpy>=1.11.2 in /usr/local/lib/python3.6/dist-packages (from scikit-surprise->surprise) (1.18.5)\n"
     ]
    }
   ],
   "source": [
    "!pip install surprise"
   ]
  },
  {
   "cell_type": "code",
   "execution_count": 5,
   "metadata": {
    "colab": {},
    "colab_type": "code",
    "id": "Gl0S2nqDN7sw"
   },
   "outputs": [],
   "source": [
    "from surprise import Dataset\n",
    "from surprise import Reader"
   ]
  },
  {
   "cell_type": "markdown",
   "metadata": {
    "colab_type": "text",
    "id": "Qv_KFKDaOJvG"
   },
   "source": [
    "Basically the data we will be using for building the recommender system contain the ratings as well as movies data file."
   ]
  },
  {
   "cell_type": "code",
   "execution_count": 6,
   "metadata": {
    "colab": {},
    "colab_type": "code",
    "id": "SW5VrKWaOFhC"
   },
   "outputs": [],
   "source": [
    "df_ratings = pd.read_csv(\"data/ratings.csv\")\n",
    "df_movies = pd.read_csv(\"data/movies.csv\")"
   ]
  },
  {
   "cell_type": "code",
   "execution_count": 7,
   "metadata": {
    "colab": {
     "base_uri": "https://localhost:8080/",
     "height": 424
    },
    "colab_type": "code",
    "id": "3qSv3haVOQAF",
    "outputId": "83acf12d-1ab0-4e94-edb3-448d46165ea6"
   },
   "outputs": [
    {
     "data": {
      "text/html": [
       "<div>\n",
       "<style scoped>\n",
       "    .dataframe tbody tr th:only-of-type {\n",
       "        vertical-align: middle;\n",
       "    }\n",
       "\n",
       "    .dataframe tbody tr th {\n",
       "        vertical-align: top;\n",
       "    }\n",
       "\n",
       "    .dataframe thead th {\n",
       "        text-align: right;\n",
       "    }\n",
       "</style>\n",
       "<table border=\"1\" class=\"dataframe\">\n",
       "  <thead>\n",
       "    <tr style=\"text-align: right;\">\n",
       "      <th></th>\n",
       "      <th>userId</th>\n",
       "      <th>movieId</th>\n",
       "      <th>rating</th>\n",
       "      <th>timestamp</th>\n",
       "    </tr>\n",
       "  </thead>\n",
       "  <tbody>\n",
       "    <tr>\n",
       "      <th>0</th>\n",
       "      <td>1</td>\n",
       "      <td>31</td>\n",
       "      <td>2.5</td>\n",
       "      <td>1260759144</td>\n",
       "    </tr>\n",
       "    <tr>\n",
       "      <th>1</th>\n",
       "      <td>1</td>\n",
       "      <td>1029</td>\n",
       "      <td>3.0</td>\n",
       "      <td>1260759179</td>\n",
       "    </tr>\n",
       "    <tr>\n",
       "      <th>2</th>\n",
       "      <td>1</td>\n",
       "      <td>1061</td>\n",
       "      <td>3.0</td>\n",
       "      <td>1260759182</td>\n",
       "    </tr>\n",
       "    <tr>\n",
       "      <th>3</th>\n",
       "      <td>1</td>\n",
       "      <td>1129</td>\n",
       "      <td>2.0</td>\n",
       "      <td>1260759185</td>\n",
       "    </tr>\n",
       "    <tr>\n",
       "      <th>4</th>\n",
       "      <td>1</td>\n",
       "      <td>1172</td>\n",
       "      <td>4.0</td>\n",
       "      <td>1260759205</td>\n",
       "    </tr>\n",
       "    <tr>\n",
       "      <th>...</th>\n",
       "      <td>...</td>\n",
       "      <td>...</td>\n",
       "      <td>...</td>\n",
       "      <td>...</td>\n",
       "    </tr>\n",
       "    <tr>\n",
       "      <th>99999</th>\n",
       "      <td>671</td>\n",
       "      <td>6268</td>\n",
       "      <td>2.5</td>\n",
       "      <td>1065579370</td>\n",
       "    </tr>\n",
       "    <tr>\n",
       "      <th>100000</th>\n",
       "      <td>671</td>\n",
       "      <td>6269</td>\n",
       "      <td>4.0</td>\n",
       "      <td>1065149201</td>\n",
       "    </tr>\n",
       "    <tr>\n",
       "      <th>100001</th>\n",
       "      <td>671</td>\n",
       "      <td>6365</td>\n",
       "      <td>4.0</td>\n",
       "      <td>1070940363</td>\n",
       "    </tr>\n",
       "    <tr>\n",
       "      <th>100002</th>\n",
       "      <td>671</td>\n",
       "      <td>6385</td>\n",
       "      <td>2.5</td>\n",
       "      <td>1070979663</td>\n",
       "    </tr>\n",
       "    <tr>\n",
       "      <th>100003</th>\n",
       "      <td>671</td>\n",
       "      <td>6565</td>\n",
       "      <td>3.5</td>\n",
       "      <td>1074784724</td>\n",
       "    </tr>\n",
       "  </tbody>\n",
       "</table>\n",
       "<p>100004 rows × 4 columns</p>\n",
       "</div>"
      ],
      "text/plain": [
       "        userId  movieId  rating   timestamp\n",
       "0            1       31     2.5  1260759144\n",
       "1            1     1029     3.0  1260759179\n",
       "2            1     1061     3.0  1260759182\n",
       "3            1     1129     2.0  1260759185\n",
       "4            1     1172     4.0  1260759205\n",
       "...        ...      ...     ...         ...\n",
       "99999      671     6268     2.5  1065579370\n",
       "100000     671     6269     4.0  1065149201\n",
       "100001     671     6365     4.0  1070940363\n",
       "100002     671     6385     2.5  1070979663\n",
       "100003     671     6565     3.5  1074784724\n",
       "\n",
       "[100004 rows x 4 columns]"
      ]
     },
     "execution_count": 7,
     "metadata": {
      "tags": []
     },
     "output_type": "execute_result"
    }
   ],
   "source": [
    "df_ratings"
   ]
  },
  {
   "cell_type": "markdown",
   "metadata": {
    "colab_type": "text",
    "id": "3wNBI6j7OVnu"
   },
   "source": [
    "Our ratings file consist of the UserId's ,movieId's, ratings to movie and the time stamp.We can see that we have 100000 ratings from 671 unique users to movies in our ratings file."
   ]
  },
  {
   "cell_type": "code",
   "execution_count": 8,
   "metadata": {
    "colab": {
     "base_uri": "https://localhost:8080/",
     "height": 424
    },
    "colab_type": "code",
    "id": "BgZ1NsbNOQFW",
    "outputId": "be8c9ec5-b3e9-4a58-9a5e-798225817a70"
   },
   "outputs": [
    {
     "data": {
      "text/html": [
       "<div>\n",
       "<style scoped>\n",
       "    .dataframe tbody tr th:only-of-type {\n",
       "        vertical-align: middle;\n",
       "    }\n",
       "\n",
       "    .dataframe tbody tr th {\n",
       "        vertical-align: top;\n",
       "    }\n",
       "\n",
       "    .dataframe thead th {\n",
       "        text-align: right;\n",
       "    }\n",
       "</style>\n",
       "<table border=\"1\" class=\"dataframe\">\n",
       "  <thead>\n",
       "    <tr style=\"text-align: right;\">\n",
       "      <th></th>\n",
       "      <th>movieId</th>\n",
       "      <th>title</th>\n",
       "      <th>genres</th>\n",
       "    </tr>\n",
       "  </thead>\n",
       "  <tbody>\n",
       "    <tr>\n",
       "      <th>0</th>\n",
       "      <td>1</td>\n",
       "      <td>Toy Story (1995)</td>\n",
       "      <td>Adventure|Animation|Children|Comedy|Fantasy</td>\n",
       "    </tr>\n",
       "    <tr>\n",
       "      <th>1</th>\n",
       "      <td>2</td>\n",
       "      <td>Jumanji (1995)</td>\n",
       "      <td>Adventure|Children|Fantasy</td>\n",
       "    </tr>\n",
       "    <tr>\n",
       "      <th>2</th>\n",
       "      <td>3</td>\n",
       "      <td>Grumpier Old Men (1995)</td>\n",
       "      <td>Comedy|Romance</td>\n",
       "    </tr>\n",
       "    <tr>\n",
       "      <th>3</th>\n",
       "      <td>4</td>\n",
       "      <td>Waiting to Exhale (1995)</td>\n",
       "      <td>Comedy|Drama|Romance</td>\n",
       "    </tr>\n",
       "    <tr>\n",
       "      <th>4</th>\n",
       "      <td>5</td>\n",
       "      <td>Father of the Bride Part II (1995)</td>\n",
       "      <td>Comedy</td>\n",
       "    </tr>\n",
       "    <tr>\n",
       "      <th>...</th>\n",
       "      <td>...</td>\n",
       "      <td>...</td>\n",
       "      <td>...</td>\n",
       "    </tr>\n",
       "    <tr>\n",
       "      <th>9120</th>\n",
       "      <td>162672</td>\n",
       "      <td>Mohenjo Daro (2016)</td>\n",
       "      <td>Adventure|Drama|Romance</td>\n",
       "    </tr>\n",
       "    <tr>\n",
       "      <th>9121</th>\n",
       "      <td>163056</td>\n",
       "      <td>Shin Godzilla (2016)</td>\n",
       "      <td>Action|Adventure|Fantasy|Sci-Fi</td>\n",
       "    </tr>\n",
       "    <tr>\n",
       "      <th>9122</th>\n",
       "      <td>163949</td>\n",
       "      <td>The Beatles: Eight Days a Week - The Touring Y...</td>\n",
       "      <td>Documentary</td>\n",
       "    </tr>\n",
       "    <tr>\n",
       "      <th>9123</th>\n",
       "      <td>164977</td>\n",
       "      <td>The Gay Desperado (1936)</td>\n",
       "      <td>Comedy</td>\n",
       "    </tr>\n",
       "    <tr>\n",
       "      <th>9124</th>\n",
       "      <td>164979</td>\n",
       "      <td>Women of '69, Unboxed</td>\n",
       "      <td>Documentary</td>\n",
       "    </tr>\n",
       "  </tbody>\n",
       "</table>\n",
       "<p>9125 rows × 3 columns</p>\n",
       "</div>"
      ],
      "text/plain": [
       "      movieId  ...                                       genres\n",
       "0           1  ...  Adventure|Animation|Children|Comedy|Fantasy\n",
       "1           2  ...                   Adventure|Children|Fantasy\n",
       "2           3  ...                               Comedy|Romance\n",
       "3           4  ...                         Comedy|Drama|Romance\n",
       "4           5  ...                                       Comedy\n",
       "...       ...  ...                                          ...\n",
       "9120   162672  ...                      Adventure|Drama|Romance\n",
       "9121   163056  ...              Action|Adventure|Fantasy|Sci-Fi\n",
       "9122   163949  ...                                  Documentary\n",
       "9123   164977  ...                                       Comedy\n",
       "9124   164979  ...                                  Documentary\n",
       "\n",
       "[9125 rows x 3 columns]"
      ]
     },
     "execution_count": 8,
     "metadata": {
      "tags": []
     },
     "output_type": "execute_result"
    }
   ],
   "source": [
    "df_movies"
   ]
  },
  {
   "cell_type": "markdown",
   "metadata": {
    "colab_type": "text",
    "id": "-wHGkGaCOgge"
   },
   "source": [
    "Our movies file contain the movie id's ,movie title and the genre of the movie. This is the data that we will use to model our recommender system to generate recommendations."
   ]
  },
  {
   "cell_type": "markdown",
   "metadata": {
    "colab_type": "text",
    "id": "cJZjwxJeOkh7"
   },
   "source": [
    "Basically what we will do in user based collaborative filtering is that we will recommend movies based on the similarity between the users.Taking a example such that user A like movie x ,y and user A is found similar to User B using some similarity calculation so then what recommender system do is found it good to recommend the movies x and y to user B.(This is the principle of collaboratve based filtering where we focus upon properties of user for recommendation)\n",
    "\n",
    "For similarity calculation we have lot of ways like euclidean distance ,pearson similarity, jaccard similarity etc but we will go with cosine similarity as it seen that it outperforms any other sililarity calculation metrics for this task.\n",
    "\n",
    "We will be using the data given for each user to find the similarity between the pair of users(we will use the rating by user to movies for creating a multidimensional vector as a feature vector for each user).\n"
   ]
  },
  {
   "cell_type": "code",
   "execution_count": 9,
   "metadata": {
    "colab": {},
    "colab_type": "code",
    "id": "42AHKxbwOQ3T"
   },
   "outputs": [],
   "source": [
    "#Path to data file\n",
    "ratings_file_path = \"data/ratings.csv\"\n",
    "movies_file_path = \"data/movies.csv\""
   ]
  },
  {
   "cell_type": "markdown",
   "metadata": {
    "colab_type": "text",
    "id": "39T9nLFeUcEy"
   },
   "source": [
    "Generating the movies_id_to_name and name_to_movies_id dictionary."
   ]
  },
  {
   "cell_type": "code",
   "execution_count": 10,
   "metadata": {
    "colab": {},
    "colab_type": "code",
    "id": "RUAnmqRV6KL3"
   },
   "outputs": [],
   "source": [
    "#We will be creating two dictionary which will contain mapping from movies id to movie name and reverse mapping\n",
    "movies_id_to_name = {}\n",
    "name_to_movies_id = {}\n",
    "\n",
    "#INitializing the reader\n",
    "reader = Reader(line_format=\"user item rating timestamp\", sep=\",\", skip_lines=1)\n",
    "\n",
    "with open(movies_file_path, newline=\"\", encoding=\"ISO-8859-1\") as csvfile:\n",
    "    movieReader = csv.reader(csvfile)\n",
    "    #Skipping the header line(containing label)\n",
    "    next(movieReader)\n",
    "    for row in movieReader:\n",
    "      movieid = int(row[0])\n",
    "      moviename = row[1]\n",
    "      movies_id_to_name[movieid] = moviename\n",
    "      name_to_movies_id[moviename] = movieid"
   ]
  },
  {
   "cell_type": "code",
   "execution_count": 11,
   "metadata": {
    "colab": {},
    "colab_type": "code",
    "id": "zKWq4KrUOQ58"
   },
   "outputs": [],
   "source": [
    "def load_data(reader):\n",
    "  ratingsDataset = 0\n",
    "  #Loading the data(using surprise to load data)\n",
    "  ratingsDataset = Dataset.load_from_file(ratings_file_path, reader=reader)\n",
    "  \n",
    "  return ratingsDataset"
   ]
  },
  {
   "cell_type": "code",
   "execution_count": 12,
   "metadata": {
    "colab": {},
    "colab_type": "code",
    "id": "v-I2AFwmZWuh"
   },
   "outputs": [],
   "source": [
    "#Getting the movie name using movie id(if found movie id return movie id otherwise return an empty string)\n",
    "def getMovieName(movieID):\n",
    "  if movieID in movies_id_to_name:\n",
    "    return movies_id_to_name[movieID]\n",
    "  else:\n",
    "    return \"\"\n",
    "\n",
    "\n",
    "#Getting the movie id using movie name(if found movie name return movie id otherwise zero)\n",
    "def getMovieID(movieName):\n",
    "  if movieName in name_to_movies_id:\n",
    "    return name_to_movies_id[movieName]\n",
    "  else:\n",
    "    return 0"
   ]
  },
  {
   "cell_type": "markdown",
   "metadata": {
    "colab_type": "text",
    "id": "awACetBaaWzE"
   },
   "source": [
    "#User Based Collaborative filtering"
   ]
  },
  {
   "cell_type": "code",
   "execution_count": 13,
   "metadata": {
    "colab": {},
    "colab_type": "code",
    "id": "7UqAP2BcU3sC"
   },
   "outputs": [],
   "source": [
    "from surprise import KNNBasic"
   ]
  },
  {
   "cell_type": "code",
   "execution_count": 14,
   "metadata": {
    "colab": {
     "base_uri": "https://localhost:8080/",
     "height": 86
    },
    "colab_type": "code",
    "id": "Q4vXp7JKT3BL",
    "outputId": "b8610059-77fa-45cc-d1c9-c4da3f5757fd"
   },
   "outputs": [
    {
     "name": "stdout",
     "output_type": "stream",
     "text": [
      "Computing the cosine similarity matrix...\n",
      "Done computing similarity matrix.\n",
      "Computing the cosine similarity matrix...\n",
      "Done computing similarity matrix.\n"
     ]
    }
   ],
   "source": [
    "#Taking the test subject to be the user with id 90\n",
    "testSubject = \"90\"\n",
    "#Will be taking similar users based on this k value\n",
    "k = 10\n",
    "\n",
    "#Loading the dataset\n",
    "data = load_data(reader)\n",
    "trainSet = data.build_full_trainset()\n",
    "\n",
    "#Smilarity will be user based(user based collaborative filtering)\n",
    "#Will be using cosine similarity for similarity evaluation\n",
    "sim_options = {\"name\": \"cosine\",\"user_based\": True}\n",
    "model = KNNBasic(sim_options=sim_options)\n",
    "model.fit(trainSet)\n",
    "simsMatrix = model.compute_similarities()"
   ]
  },
  {
   "cell_type": "code",
   "execution_count": 15,
   "metadata": {
    "colab": {
     "base_uri": "https://localhost:8080/",
     "height": 34
    },
    "colab_type": "code",
    "id": "sj9jJ0hFV44q",
    "outputId": "1284bff9-9af4-46a8-ee97-1b6cfb22ca99"
   },
   "outputs": [
    {
     "data": {
      "text/plain": [
       "(671, 671)"
      ]
     },
     "execution_count": 15,
     "metadata": {
      "tags": []
     },
     "output_type": "execute_result"
    }
   ],
   "source": [
    "simsMatrix.shape"
   ]
  },
  {
   "cell_type": "markdown",
   "metadata": {
    "colab_type": "text",
    "id": "YbbeVmpQWFqk"
   },
   "source": [
    "We will be having a 671*671 shape matrix that contain similarities between the users in our data."
   ]
  },
  {
   "cell_type": "code",
   "execution_count": 16,
   "metadata": {
    "colab": {},
    "colab_type": "code",
    "id": "eS5mdZ-rZF5h"
   },
   "outputs": [],
   "source": [
    "import heapq\n",
    "from operator import itemgetter"
   ]
  },
  {
   "cell_type": "code",
   "execution_count": 17,
   "metadata": {
    "colab": {},
    "colab_type": "code",
    "id": "zvox8oIkVEnD"
   },
   "outputs": [],
   "source": [
    "#Getting top N similar users to the test subject for which we wanna create recommendations\n",
    "#Also we can select users up to some similarity threshold\n",
    "testUserInnerID = trainSet.to_inner_uid(testSubject)\n",
    "similarityRow = simsMatrix[testUserInnerID]\n",
    "\n",
    "#Basically here what we gonna do is select the similar users from the similarity matrix based on a threshold value(say 10 similar users etc)\n",
    "similarUsers = []\n",
    "for innerID, score in enumerate(similarityRow):\n",
    "  if (innerID != testUserInnerID):\n",
    "    #Appending the user id and similarity score\n",
    "    similarUsers.append((innerID, score))\n",
    "\n",
    "kNeighbors = heapq.nlargest(k, similarUsers, key=lambda t: t[1])"
   ]
  },
  {
   "cell_type": "code",
   "execution_count": 18,
   "metadata": {
    "colab": {
     "base_uri": "https://localhost:8080/",
     "height": 191
    },
    "colab_type": "code",
    "id": "wOy7n4sk7pz4",
    "outputId": "2c955080-0aac-418e-faf2-b3e44eb8f7c6"
   },
   "outputs": [
    {
     "data": {
      "text/plain": [
       "[(0, 1.0),\n",
       " (1, 1.0),\n",
       " (4, 1.0),\n",
       " (10, 1.0),\n",
       " (12, 1.0),\n",
       " (26, 1.0),\n",
       " (32, 1.0),\n",
       " (34, 1.0),\n",
       " (36, 1.0),\n",
       " (37, 1.0)]"
      ]
     },
     "execution_count": 18,
     "metadata": {
      "tags": []
     },
     "output_type": "execute_result"
    }
   ],
   "source": [
    "kNeighbors"
   ]
  },
  {
   "cell_type": "code",
   "execution_count": 19,
   "metadata": {
    "colab": {},
    "colab_type": "code",
    "id": "fstcfliPVNHm"
   },
   "outputs": [],
   "source": [
    "#Getting the movies similar users rates and adding up ratings for each item weighted by user similarity\n",
    "candidates = defaultdict(float)\n",
    "for similarUser in kNeighbors:\n",
    "  innerID = similarUser[0]\n",
    "  userSimilarityScore = similarUser[1]\n",
    "  theirRatings = trainSet.ur[innerID]\n",
    "  #Calculating the candidate scores\n",
    "  for rating in theirRatings:\n",
    "    candidates[rating[0]] += (rating[1] / 5.0) * userSimilarityScore"
   ]
  },
  {
   "cell_type": "code",
   "execution_count": 20,
   "metadata": {
    "colab": {
     "base_uri": "https://localhost:8080/",
     "height": 208
    },
    "colab_type": "code",
    "id": "7kYQfWY5VQ0K",
    "outputId": "464178c0-b44b-4cc0-dfd3-fb0194eecdb4"
   },
   "outputs": [
    {
     "name": "stdout",
     "output_type": "stream",
     "text": [
      "Pulp Fiction (1994) 4.3\n",
      "Schindler's List (1993) 3.5\n",
      "Forrest Gump (1994) 3.3\n",
      "Lion King, The (1994) 3.2\n",
      "Sixth Sense, The (1999) 2.9\n",
      "Usual Suspects, The (1995) 2.6\n",
      "American Beauty (1999) 2.6\n",
      "Dances with Wolves (1990) 2.5\n",
      "Office Space (1999) 2.5\n",
      "Braveheart (1995) 2.4000000000000004\n",
      "Silence of the Lambs, The (1991) 2.3\n"
     ]
    }
   ],
   "source": [
    "#Building a dictionary of stuff the user has already seen\n",
    "watched = {}\n",
    "for itemID, rating in trainSet.ur[testUserInnerID]:\n",
    "  watched[itemID] = 1\n",
    "    \n",
    "#Getting top rated items(movies)\n",
    "pos = 0\n",
    "for itemID, ratingSum in sorted(candidates.items(), key=itemgetter(1), reverse=True):\n",
    "  if not itemID in watched:\n",
    "    movieID = trainSet.to_raw_iid(itemID)\n",
    "    print(getMovieName(int(movieID)), ratingSum)\n",
    "    pos += 1\n",
    "    if (pos > 10):\n",
    "        break"
   ]
  },
  {
   "cell_type": "markdown",
   "metadata": {
    "colab_type": "text",
    "id": "sfIPprFfJMYN"
   },
   "source": [
    "Basically in user based collaborative filtering the procedure we are following for recommending top k items to user is that initially we are taking a 2d matrix which has users on x axis and movies on yaxis and then we are creating a similarity matrix between the users taking the movies ratings corresponding to each user as its feature and finding cosine similarity between each pair of users following this we get a similarity matrix of users.After generation of similarity matrix say we want to recommend movies to a user what we will do is find the users similar to user under subject based on a threshold to the number of users selected and then after selecting the similar users we will candidate dictionary of the movies watched by similar users and then based upon the candidate scores of each movie we will recommend top n movies(n is choice)."
   ]
  },
  {
   "cell_type": "markdown",
   "metadata": {
    "colab_type": "text",
    "id": "I_hTpBXNJQiy"
   },
   "source": [
    "There are some variations which we can apply so as to get some good reasonable results."
   ]
  },
  {
   "cell_type": "code",
   "execution_count": 21,
   "metadata": {
    "colab": {
     "base_uri": "https://localhost:8080/",
     "height": 86
    },
    "colab_type": "code",
    "id": "w0tdgq9xJT01",
    "outputId": "269ffa87-756a-4367-d73a-2fe640e3f64d"
   },
   "outputs": [
    {
     "name": "stdout",
     "output_type": "stream",
     "text": [
      "Pulp Fiction (1994) 4.3\n",
      "Schindler's List (1993) 3.5\n",
      "Forrest Gump (1994) 3.3\n",
      "Lion King, The (1994) 3.2\n"
     ]
    }
   ],
   "source": [
    "#One thing which we can do is apply some condition on to the candidates scores to get the recommendation.\n",
    "#Getting top rated items(movies)\n",
    "for itemID, ratingSum in sorted(candidates.items(), key=itemgetter(1), reverse=True):\n",
    "  if not itemID in watched and ratingSum > 3:\n",
    "    movieID = trainSet.to_raw_iid(itemID)\n",
    "    print(getMovieName(int(movieID)), ratingSum)"
   ]
  },
  {
   "cell_type": "markdown",
   "metadata": {
    "colab_type": "text",
    "id": "exU7hpxpOE5M"
   },
   "source": [
    "These are the movies recommended based upon rating sum we can also decide the threshold of rating sum so that above this value we can recommend movies."
   ]
  },
  {
   "cell_type": "markdown",
   "metadata": {
    "colab_type": "text",
    "id": "S7QfL8oUaeFe"
   },
   "source": [
    "#Item Based Collaborative filtering"
   ]
  },
  {
   "cell_type": "code",
   "execution_count": 22,
   "metadata": {
    "colab": {
     "base_uri": "https://localhost:8080/",
     "height": 86
    },
    "colab_type": "code",
    "id": "LJ1JDWywORCv",
    "outputId": "94b166e2-cb87-4a99-a882-ba29c8a3311a"
   },
   "outputs": [
    {
     "name": "stdout",
     "output_type": "stream",
     "text": [
      "Computing the cosine similarity matrix...\n",
      "Done computing similarity matrix.\n",
      "Computing the cosine similarity matrix...\n",
      "Done computing similarity matrix.\n"
     ]
    }
   ],
   "source": [
    "#Taking the test subject to be the user with id 90\n",
    "testSubject = \"90\"\n",
    "#Will be taking similar items based on this k value\n",
    "k = 10\n",
    "\n",
    "#Loading the dataset and computing the user similarity matrix\n",
    "data = load_data(reader)\n",
    "trainSet = data.build_full_trainset()\n",
    "\n",
    "#Smilarity will be item based(item based collaborative filtering)\n",
    "#Will be using cosine similarity for similarity evaluation\n",
    "sim_options = {\"name\": \"cosine\",\"user_based\": False}\n",
    "model = KNNBasic(sim_options=sim_options)\n",
    "model.fit(trainSet)\n",
    "simsMatrix = model.compute_similarities()"
   ]
  },
  {
   "cell_type": "code",
   "execution_count": 23,
   "metadata": {
    "colab": {
     "base_uri": "https://localhost:8080/",
     "height": 34
    },
    "colab_type": "code",
    "id": "DuDx6M5RORLj",
    "outputId": "077e824c-1544-4545-836f-bc77970708d4"
   },
   "outputs": [
    {
     "data": {
      "text/plain": [
       "(9066, 9066)"
      ]
     },
     "execution_count": 23,
     "metadata": {
      "tags": []
     },
     "output_type": "execute_result"
    }
   ],
   "source": [
    "simsMatrix.shape"
   ]
  },
  {
   "cell_type": "markdown",
   "metadata": {
    "colab_type": "text",
    "id": "IlF9bT4sbMkb"
   },
   "source": [
    "As we can see that shape of our similarity matrix changed as now we are using items(movies) insted of users.\n",
    "\n",
    "One thing which should be kept in mind while dealing with collaborative filtering is that item based collaborative is always computation efficient as comapred to user based filtering because the number of users are always greater than the items in catalog so thats why the similarity matrix will be smaller."
   ]
  },
  {
   "cell_type": "code",
   "execution_count": 24,
   "metadata": {
    "colab": {},
    "colab_type": "code",
    "id": "C748V5AS_hqD"
   },
   "outputs": [],
   "source": [
    "#Getting top N similar item to the test subject for which we wanna create recommendations\n",
    "#Also we can select item up to some similarity threshold\n",
    "testUserInnerID = trainSet.to_inner_uid(testSubject)\n",
    "\n",
    "#Get the top K items we rated\n",
    "testUserRatings = trainSet.ur[testUserInnerID]\n",
    "kNeighbors = heapq.nlargest(k, testUserRatings, key=lambda t: t[1])"
   ]
  },
  {
   "cell_type": "code",
   "execution_count": 25,
   "metadata": {
    "colab": {},
    "colab_type": "code",
    "id": "sqKWQ7glORHp"
   },
   "outputs": [],
   "source": [
    "#Getting the similar items to stuff one liked weighted by rating\n",
    "candidates = defaultdict(float)\n",
    "for itemID, rating in kNeighbors:\n",
    "  similarityRow = simsMatrix[itemID]\n",
    "  for innerID, score in enumerate(similarityRow):\n",
    "    candidates[innerID] += score * (rating / 5.0)"
   ]
  },
  {
   "cell_type": "code",
   "execution_count": 26,
   "metadata": {
    "colab": {
     "base_uri": "https://localhost:8080/",
     "height": 208
    },
    "colab_type": "code",
    "id": "XYpIt4uzORFy",
    "outputId": "caad4926-36b8-41df-db48-9a31f136e57a"
   },
   "outputs": [
    {
     "name": "stdout",
     "output_type": "stream",
     "text": [
      "Decline of Western Civilization, The (1981) 9.18210632723149\n",
      "Ride with the Devil (1999) 9.179529369863763\n",
      "Edge of Seventeen (1998) 9.178433446602895\n",
      "Casualties of War (1989) 9.17310807840759\n",
      "Devil's Backbone, The (Espinazo del diablo, El) (2001) 9.166616704501587\n",
      "Shadow, The (1994) 9.166114595042242\n",
      "Palm Beach Story, The (1942) 9.164458216017712\n",
      "Concorde: Airport '79, The (1979) 9.1598196284343\n",
      "Lost World, The (1925) 9.15934984270229\n",
      "I Stand Alone (Seul contre tous) (1998) 9.158111846647614\n",
      "Great Mouse Detective, The (1986) 9.157821320052\n"
     ]
    }
   ],
   "source": [
    "#Building a dictionary of stuff the user has already seen\n",
    "watched = {}\n",
    "for itemID, rating in trainSet.ur[testUserInnerID]:\n",
    "  watched[itemID] = 1\n",
    "    \n",
    "#Getting top rated items(movies)\n",
    "pos = 0\n",
    "for itemID, ratingSum in sorted(candidates.items(), key=itemgetter(1), reverse=True):\n",
    "  if not itemID in watched:\n",
    "    movieID = trainSet.to_raw_iid(itemID)\n",
    "    print(getMovieName(int(movieID)), ratingSum)\n",
    "    pos += 1\n",
    "    if (pos > 10):\n",
    "        break"
   ]
  },
  {
   "cell_type": "markdown",
   "metadata": {
    "colab_type": "text",
    "id": "4kNoZPwXE5Gu"
   },
   "source": [
    "Whhat we do in item based collaborative filtering for recommending top k items to user is somewhat different.Initially we start by taking a 2d matrix which has movies on x axis and users on yaxis and then we create a similarity matrix between the movies taking the movies ratings corresponding to each movie by the users as its feature and finding cosine similarity between each pair of movies, following this we get a similarity matrix of movies.After generation of similarity matrix say we want to recommend movies to a user for that what we will do is take the movies watched by the user based on a threshold whom we are going to recommend the movies and find the similar movies to the the movies rated by user and then create a candidate dictionary and based upon the candidate score will recommend top n movies(again n is a choice)."
   ]
  },
  {
   "cell_type": "markdown",
   "metadata": {
    "colab_type": "text",
    "id": "AfInL2fgIgSp"
   },
   "source": [
    "Again there are some variations which we can apply so as to get some good reasonable results."
   ]
  },
  {
   "cell_type": "code",
   "execution_count": 27,
   "metadata": {
    "colab": {
     "base_uri": "https://localhost:8080/",
     "height": 34
    },
    "colab_type": "code",
    "id": "QVxLu1_SPJNh",
    "outputId": "e7956120-31d6-43ff-d7e7-839330f2a28c"
   },
   "outputs": [
    {
     "name": "stdout",
     "output_type": "stream",
     "text": [
      "9.032537167199374\n"
     ]
    }
   ],
   "source": [
    "lst = []\n",
    "for _, ratingSum in sorted(candidates.items(), key=itemgetter(1), reverse=True):\n",
    "  lst.append(ratingSum)\n",
    "pos = 0.02*len(lst)\n",
    "print(lst[int(pos)])"
   ]
  },
  {
   "cell_type": "markdown",
   "metadata": {
    "colab_type": "text",
    "id": "keosC8inRXAY"
   },
   "source": [
    "We can decide the pos based upon the number of recommendation which we wanna give to our users."
   ]
  },
  {
   "cell_type": "code",
   "execution_count": 28,
   "metadata": {
    "colab": {
     "base_uri": "https://localhost:8080/",
     "height": 1000
    },
    "colab_type": "code",
    "id": "YwsQeBzQOQ9-",
    "outputId": "c30c5e08-c1b1-4572-f63a-46519146dbb3"
   },
   "outputs": [
    {
     "name": "stdout",
     "output_type": "stream",
     "text": [
      "Decline of Western Civilization, The (1981) 9.18210632723149\n",
      "Ride with the Devil (1999) 9.179529369863763\n",
      "Edge of Seventeen (1998) 9.178433446602895\n",
      "Casualties of War (1989) 9.17310807840759\n",
      "Devil's Backbone, The (Espinazo del diablo, El) (2001) 9.166616704501587\n",
      "Shadow, The (1994) 9.166114595042242\n",
      "Palm Beach Story, The (1942) 9.164458216017712\n",
      "Concorde: Airport '79, The (1979) 9.1598196284343\n",
      "Lost World, The (1925) 9.15934984270229\n",
      "I Stand Alone (Seul contre tous) (1998) 9.158111846647614\n",
      "Great Mouse Detective, The (1986) 9.157821320052\n",
      "Riding in Cars with Boys (2001) 9.157180223388375\n",
      "Shopgirl (2005) 9.156001123941994\n",
      "Notes on a Scandal (2006) 9.156001123941994\n",
      "Laurel Canyon (2002) 9.155864778192655\n",
      "Adventures of Pinocchio, The (1996) 9.15485465049468\n",
      "Suspicion (1941) 9.153171850733909\n",
      "Mouse That Roared, The (1959) 9.151310535902622\n",
      "Taking of Pelham One Two Three, The (1974) 9.149544953316555\n",
      "Three Caballeros, The (1945) 9.148265749590161\n",
      "Gate of Heavenly Peace, The (1995) 9.14699409768674\n",
      "Ridicule (1996) 9.144081165973597\n",
      "Cat's Meow, The (2002) 9.143038341340851\n",
      "Infernal Affairs (Mou gaan dou) (2002) 9.141748857082588\n",
      "Thumbelina (1994) 9.14052426767646\n",
      "Charlie Wilson's War (2007) 9.140119629029702\n",
      "Return from Witch Mountain (1978) 9.139749693575236\n",
      "Pale Rider (1985) 9.138642323796029\n",
      "Next Stop Wonderland (1998) 9.136564428260266\n",
      "Namesake, The (2006) 9.136192687300749\n",
      "Owning Mahowny (2003) 9.136027467645555\n",
      "Lion in Winter, The (1968) 9.135865219916735\n",
      "Hidden Fortress, The (Kakushi-toride no san-akunin) (1958) 9.13513990039849\n",
      "Proposition, The (2005) 9.134110575584018\n",
      "Month by the Lake, A (1995) 9.133197862658994\n",
      "Brother's Keeper (1992) 9.132931391361998\n",
      "Amityville 3-D (1983) 9.131244742633557\n",
      "Never Cry Wolf (1983) 9.127168487871483\n",
      "Milk (2008) 9.127032767060694\n",
      "Once Upon a Time... When We Were Colored (1995) 9.126559901091403\n",
      "Gone Baby Gone (2007) 9.123492426176359\n",
      "Pit and the Pendulum (1961) 9.123433676951564\n",
      "Effect of Gamma Rays on Man-in-the-Moon Marigolds, The (1972) 9.122924385903726\n",
      "Mississippi Masala (1991) 9.12128639651924\n",
      "Murder, My Sweet (1944) 9.119821634743682\n",
      "Beloved (1998) 9.118872807324868\n",
      "Jungle Book (1942) 9.11720251078233\n",
      "Woman of the Year (1942) 9.117176397862075\n",
      "Jet Li's Fearless (Huo Yuan Jia) (2006) 9.116731754637257\n",
      "Maltese Falcon, The (a.k.a. Dangerous Female) (1931) 9.116698358263397\n",
      "Rookie, The (2002) 9.116218815160627\n",
      "Dallas Buyers Club (2013) 9.116034380999405\n",
      "Three Faces of Eve, The (1957) 9.115110130314221\n",
      "Comedian (2002) 9.114201951174222\n",
      "Welcome to Sarajevo (1997) 9.111155608635258\n",
      "Thirteen (2003) 9.10981530277122\n",
      "Gorillas in the Mist (1988) 9.109581451600288\n",
      "Avalon (1990) 9.109376625902227\n",
      "Radio (2003) 9.108415963845859\n",
      "Something Wicked This Way Comes (1983) 9.105617402016172\n",
      "Last King of Scotland, The (2006) 9.105406834234858\n",
      "Zed & Two Noughts, A (1985) 9.105155577221964\n",
      "We Need to Talk About Kevin (2011) 9.104263453011512\n",
      "Guinevere (1999) 9.102404823816725\n",
      "Get Real (1998) 9.098844107041838\n",
      "Gentlemen Prefer Blondes (1953) 9.095111247465828\n",
      "Warriors, The (1979) 9.09506722150082\n",
      "Crazy Heart (2009) 9.094868838346054\n",
      "Europa Europa (Hitlerjunge Salomon) (1990) 9.094438265715686\n",
      "Kandahar (Safar e Ghandehar) (2001) 9.093740009558115\n",
      "Nuts (1987) 9.092449173614007\n",
      "Win Win (2011) 9.092297501409067\n",
      "What's Up, Doc? (1972) 9.09148759326372\n",
      "Mask (1985) 9.09144991454456\n",
      "Day of the Jackal, The (1973) 9.09021325686445\n",
      "Judgment at Nuremberg (1961) 9.088858821746438\n",
      "Little Children (2006) 9.08764884974073\n",
      "Cry, the Beloved Country (1995) 9.084816039348063\n",
      "Business of Strangers, The (2001) 9.083085635028961\n",
      "Inherit the Wind (1960) 9.082551384011484\n",
      "Oliver! (1968) 9.0822591341663\n",
      "Mysterious Skin (2004) 9.081921883247494\n",
      "Good Shepherd, The (2006) 9.080724214294543\n",
      "Steamboat Willie (1928) 9.080002014803906\n",
      "Love in the Afternoon (1957) 9.079535593173734\n",
      "20 Dates (1998) 9.077906368258834\n",
      "Anne Frank Remembered (1995) 9.07763895374952\n",
      "SLC Punk! (1998) 9.076749972067603\n",
      "Freshman, The (1990) 9.075252515326628\n",
      "Miracle (2004) 9.074908097953655\n",
      "Hurlyburly (1998) 9.073377347567103\n",
      "Atonement (2007) 9.07292098317023\n",
      "Presumed Innocent (1990) 9.072824107377151\n",
      "Backbeat (1993) 9.072616842993169\n",
      "Brothers Bloom, The (2008) 9.072373423838513\n",
      "Duel (1971) 9.072359376173004\n",
      "Colors (1988) 9.071620515670357\n",
      "Eastern Promises (2007) 9.070417596940077\n",
      "Man Who Knew Too Much, The (1956) 9.070206113951766\n",
      "Ghost Writer, The (2010) 9.069899566962064\n",
      "Return with Honor (1998) 9.067390085343005\n",
      "Midnight Clear, A (1992) 9.067390085343005\n",
      "Other Guys, The (2010) 9.066745345954867\n",
      "Yojimbo (1961) 9.066615736133707\n",
      "Cooler, The (2003) 9.065403005727893\n",
      "Seven Psychopaths (2012) 9.064489035729904\n",
      "Wishmaster (1997) 9.064479076289004\n",
      "Dragon: The Bruce Lee Story (1993) 9.06279861488475\n",
      "King of New York (1990) 9.062260642594522\n",
      "Step Brothers (2008) 9.06170363175737\n",
      "Near Dark (1987) 9.06149897177541\n",
      "Lady Eve, The (1941) 9.06127753112306\n",
      "Raiders of the Lost Ark: The Adaptation (1989) 9.060811260104765\n",
      "In Cold Blood (1967) 9.06076226186756\n",
      "Before the Devil Knows You're Dead (2007) 9.060671800768477\n",
      "Paper Moon (1973) 9.060661785241416\n",
      "Aileen: Life and Death of a Serial Killer (2003) 9.060182676426884\n",
      "Broken Flowers (2005) 9.058950232370934\n",
      "Layer Cake (2004) 9.058675617743562\n",
      "Whatever (1998) 9.057951489573616\n",
      "Come See the Paradise (1990) 9.057457085965467\n",
      "Spanglish (2004) 9.056177493597614\n",
      "Endurance: Shackleton's Legendary Antarctic Expedition, The (2000) 9.056118488498116\n",
      "Enchanted (2007) 9.055710256689439\n",
      "Limbo (1999) 9.055470115959151\n",
      "Filth and the Fury, The (2000) 9.055270428933966\n",
      "Silver Linings Playbook (2012) 9.05502718870141\n",
      "Quiet American, The (2002) 9.05475110471727\n",
      "Raisin in the Sun, A (1961) 9.054537141224188\n",
      "Beyond, The (E tu vivrai nel terrore - L'aldilÃ ) (1981) 9.053992721015057\n",
      "50/50 (2011) 9.05394339356454\n",
      "Men Who Stare at Goats, The (2009) 9.053834951228854\n",
      "Runaway Train (1985) 9.053673339867393\n",
      "Mad Love (1995) 9.052797694312385\n",
      "Tigerland (2000) 9.0523947865256\n",
      "Very Long Engagement, A (Un long dimanche de fianÃ§ailles) (2004) 9.052072634149942\n",
      "How the Grinch Stole Christmas! (1966) 9.051463821978883\n",
      "Diabolique (1996) 9.051454807019113\n",
      "Hope and Glory (1987) 9.05127624487591\n",
      "Match Point (2005) 9.051179387778198\n",
      "In the Realm of the Senses (Ai no corrida) (1976) 9.051010613589373\n",
      "Ted (2012) 9.050975909542393\n",
      "Saving Mr. Banks (2013) 9.050916423486914\n",
      "Heartburn (1986) 9.050549260799967\n",
      "Man Who Shot Liberty Valance, The (1962) 9.050281548847874\n",
      "28 Weeks Later (2007) 9.050117459250375\n",
      "War Zone, The (1999) 9.049366922430181\n",
      "Children of the Damned (1963) 9.04910495376822\n",
      "Accidental Tourist, The (1988) 9.048593237123182\n",
      "Corporation, The (2003) 9.048164220421702\n",
      "Way, Way Back, The (2013) 9.04798751380472\n",
      "Before Sunrise (1995) 9.0465016221342\n",
      "Red Corner (1997) 9.046125458763234\n",
      "Now and Then (1995) 9.045695147356422\n",
      "General, The (1998) 9.04552156558468\n",
      "Lady Vanishes, The (1938) 9.044540613896793\n",
      "Eyes Without a Face (Yeux sans visage, Les) (1959) 9.044212914392926\n",
      "Girl with a Pearl Earring (2003) 9.04406368598848\n",
      "Love and Death on Long Island (1997) 9.043336220830358\n",
      "Mrs. Brown (a.k.a. Her Majesty, Mrs. Brown) (1997) 9.043154427305593\n",
      "Hamlet (1990) 9.042824744030543\n",
      "Blood Diamond (2006) 9.042813922150103\n",
      "Deep Rising (1998) 9.04156168067232\n",
      "Pollock (2000) 9.041391448052636\n",
      "Jungle Fever (1991) 9.04056211448459\n",
      "True Crime (1999) 9.04003012818869\n",
      "127 Hours (2010) 9.039444048607475\n",
      "Timecrimes (CronocrÃ­menes, Los) (2007) 9.038964619552228\n",
      "On the Waterfront (1954) 9.038704851188365\n",
      "White Squall (1996) 9.038604880433539\n",
      "Mississippi Burning (1988) 9.038314203326276\n",
      "All the President's Men (1976) 9.038059782699726\n",
      "Fruitvale Station (2013) 9.03730112509051\n",
      "Knowing (2009) 9.036455989807088\n",
      "Deep End of the Ocean, The (1999) 9.036337109032077\n",
      "Replacement Killers, The (1998) 9.034538216821735\n",
      "Pieces of April (2003) 9.034384040151393\n",
      "Tape (2001) 9.033210540890869\n"
     ]
    }
   ],
   "source": [
    "#One thing which we can do is apply some condition on to the candidates scores rating sum to get the recommendation.\n",
    "#Getting top rated items(movies)\n",
    "for itemID, ratingSum in sorted(candidates.items(), key=itemgetter(1), reverse=True):\n",
    "  if not itemID in watched and ratingSum > lst[int(pos)]:\n",
    "    movieID = trainSet.to_raw_iid(itemID)\n",
    "    print(getMovieName(int(movieID)), ratingSum)"
   ]
  },
  {
   "cell_type": "markdown",
   "metadata": {
    "colab_type": "text",
    "id": "j6x5DRB1Rqlm"
   },
   "source": [
    "#Using KNN Recommenders for generating predictions."
   ]
  },
  {
   "cell_type": "markdown",
   "metadata": {
    "colab_type": "text",
    "id": "M5xN30xsV3WD"
   },
   "source": [
    "User based KNN what we gonna do here is that we will try to find the rating prediction for a movie by a user who haven't seen the movie.\n",
    "\n",
    "The procedure which we will follow is that first of all we will find the users similar to user under subject who have watched the movie under subject which we are thinking of recommending to the user based rating weighted similarity score."
   ]
  },
  {
   "cell_type": "markdown",
   "metadata": {
    "colab_type": "text",
    "id": "RyVbrBdAaiBK"
   },
   "source": [
    "Generating the similarity matrix."
   ]
  },
  {
   "cell_type": "code",
   "execution_count": 29,
   "metadata": {
    "colab": {
     "base_uri": "https://localhost:8080/",
     "height": 86
    },
    "colab_type": "code",
    "id": "o-hkgj5kOQ8v",
    "outputId": "eecb27ab-5b8d-4dbe-9b76-cff098b2def1"
   },
   "outputs": [
    {
     "name": "stdout",
     "output_type": "stream",
     "text": [
      "Computing the cosine similarity matrix...\n",
      "Done computing similarity matrix.\n",
      "Computing the cosine similarity matrix...\n",
      "Done computing similarity matrix.\n"
     ]
    }
   ],
   "source": [
    "#Taking the test subject to be the user with id 90\n",
    "testSubject = \"90\"\n",
    "testMovieName = \"Toy Story (1995)\"\n",
    "#Will be taking similar users based on this k value\n",
    "k = 30\n",
    "\n",
    "#Loading the dataset\n",
    "data = load_data(reader)\n",
    "trainSet = data.build_full_trainset()\n",
    "\n",
    "#Smilarity will be user based(user based collaborative filtering)\n",
    "#Will be using cosine similarity for similarity evaluation\n",
    "sim_options = {\"name\": \"cosine\",\"user_based\": True}\n",
    "model = KNNBasic(sim_options=sim_options)\n",
    "model.fit(trainSet)\n",
    "simsMatrix = model.compute_similarities()"
   ]
  },
  {
   "cell_type": "code",
   "execution_count": 30,
   "metadata": {
    "colab": {
     "base_uri": "https://localhost:8080/",
     "height": 34
    },
    "colab_type": "code",
    "id": "Q2tLtowjbtLA",
    "outputId": "4f794aba-56af-48d7-c7cf-4bc6bca3bacf"
   },
   "outputs": [
    {
     "data": {
      "text/plain": [
       "1"
      ]
     },
     "execution_count": 30,
     "metadata": {
      "tags": []
     },
     "output_type": "execute_result"
    }
   ],
   "source": [
    "testMovieID = getMovieID(testMovieName)\n",
    "testMovieID"
   ]
  },
  {
   "cell_type": "markdown",
   "metadata": {
    "colab_type": "text",
    "id": "QAjv8PUcaqi2"
   },
   "source": [
    "Next step is find the similar users who have rated the movie under subject"
   ]
  },
  {
   "cell_type": "code",
   "execution_count": 31,
   "metadata": {
    "colab": {},
    "colab_type": "code",
    "id": "OhRa8HasRjXN"
   },
   "outputs": [],
   "source": [
    "#Getting top N similar users to the test subject for which we wanna create recommendations\n",
    "#Also we can select users up to some similarity threshold\n",
    "testUserInnerID = trainSet.to_inner_uid(testSubject)\n",
    "similarityRow = simsMatrix[testUserInnerID]\n",
    "\n",
    "#Basically here what we gonna do is select the similar users from the similarity matrix based on a threshold value(say 10 similar users etc)\n",
    "\n",
    "similarUsers = []\n",
    "for innerID, score in enumerate(similarityRow):\n",
    "  if (innerID != testUserInnerID):\n",
    "    #Appending the user id and similarity score\n",
    "    similarUsers.append((innerID, score))\n",
    "\n",
    "#Selecting top 30 similar users\n",
    "kNeighbors = heapq.nlargest(k, similarUsers, key=lambda t: t[1])"
   ]
  },
  {
   "cell_type": "code",
   "execution_count": 32,
   "metadata": {
    "colab": {
     "base_uri": "https://localhost:8080/",
     "height": 34
    },
    "colab_type": "code",
    "id": "7UtlXjMESv7B",
    "outputId": "2940ae9f-c1c1-4a7d-f759-73b6b044f20d"
   },
   "outputs": [
    {
     "data": {
      "text/plain": [
       "89"
      ]
     },
     "execution_count": 32,
     "metadata": {
      "tags": []
     },
     "output_type": "execute_result"
    }
   ],
   "source": [
    "testUserInnerID"
   ]
  },
  {
   "cell_type": "code",
   "execution_count": 33,
   "metadata": {
    "colab": {
     "base_uri": "https://localhost:8080/",
     "height": 538
    },
    "colab_type": "code",
    "id": "HWvdp74SRjcG",
    "outputId": "22367b27-daa5-4fb2-998d-b0b56ab440b7"
   },
   "outputs": [
    {
     "data": {
      "text/plain": [
       "[(0, 1.0),\n",
       " (1, 1.0),\n",
       " (4, 1.0),\n",
       " (10, 1.0),\n",
       " (12, 1.0),\n",
       " (26, 1.0),\n",
       " (32, 1.0),\n",
       " (34, 1.0),\n",
       " (36, 1.0),\n",
       " (37, 1.0),\n",
       " (38, 1.0),\n",
       " (39, 1.0),\n",
       " (45, 1.0),\n",
       " (49, 1.0),\n",
       " (51, 1.0),\n",
       " (52, 1.0),\n",
       " (59, 1.0),\n",
       " (61, 1.0),\n",
       " (64, 1.0),\n",
       " (84, 1.0),\n",
       " (95, 1.0),\n",
       " (97, 1.0),\n",
       " (100, 1.0),\n",
       " (108, 1.0),\n",
       " (121, 1.0),\n",
       " (123, 1.0),\n",
       " (128, 1.0),\n",
       " (132, 1.0),\n",
       " (139, 1.0),\n",
       " (140, 1.0)]"
      ]
     },
     "execution_count": 33,
     "metadata": {
      "tags": []
     },
     "output_type": "execute_result"
    }
   ],
   "source": [
    "kNeighbors"
   ]
  },
  {
   "cell_type": "code",
   "execution_count": 35,
   "metadata": {
    "colab": {},
    "colab_type": "code",
    "id": "Fs8nl2MUs0Fi"
   },
   "outputs": [],
   "source": [
    "#Getting all the similar users who rated the movie under subject\n",
    "UsersRated = []\n",
    "def getUsersRated(neighborsList,df_rating,testMovieID):\n",
    "  for record in neighborsList:\n",
    "    userid = record[0]+1\n",
    "    df_new = df_rating[df_rating[\"userId\"] == userid]\n",
    "    if df_new[df_new[\"movieId\"] == testMovieID].empty == False:\n",
    "      UsersRated.append(record)"
   ]
  },
  {
   "cell_type": "code",
   "execution_count": 36,
   "metadata": {
    "colab": {},
    "colab_type": "code",
    "id": "c2nIDWVWv5-S"
   },
   "outputs": [],
   "source": [
    "getUsersRated(kNeighbors,df_ratings,testMovieID)"
   ]
  },
  {
   "cell_type": "code",
   "execution_count": 37,
   "metadata": {
    "colab": {
     "base_uri": "https://localhost:8080/",
     "height": 34
    },
    "colab_type": "code",
    "id": "Nr1BLG0LwOZp",
    "outputId": "2164ce7b-b961-4f72-ec6c-47f22b10d268"
   },
   "outputs": [
    {
     "data": {
      "text/plain": [
       "[(12, 1.0), (36, 1.0), (121, 1.0), (123, 1.0)]"
      ]
     },
     "execution_count": 37,
     "metadata": {
      "tags": []
     },
     "output_type": "execute_result"
    }
   ],
   "source": [
    "UsersRated"
   ]
  },
  {
   "cell_type": "markdown",
   "metadata": {
    "colab_type": "text",
    "id": "wffFnvRUePD3"
   },
   "source": [
    "Now as we have our similar users what we gonna do is calculate the rating prediction for the movie under subject by user under subject."
   ]
  },
  {
   "cell_type": "code",
   "execution_count": 38,
   "metadata": {
    "colab": {},
    "colab_type": "code",
    "id": "sTM9DHpMRjfd"
   },
   "outputs": [],
   "source": [
    "def getRatingUserID(user_id, movie_id, df_rating):\n",
    "  Allratings = df_rating[df_rating[\"userId\"] == user_id]\n",
    "  selectedRatings = Allratings[Allratings[\"movieId\"] == movie_id]\n",
    "  rating = selectedRatings[\"rating\"].values\n",
    "  rating = rating.tolist()\n",
    "  return rating[0]"
   ]
  },
  {
   "cell_type": "code",
   "execution_count": 40,
   "metadata": {
    "colab": {},
    "colab_type": "code",
    "id": "1d0vGSwaRjae"
   },
   "outputs": [],
   "source": [
    "weightedRatingTotal = 0\n",
    "for rec in UsersRated:\n",
    "  uID = rec[0]+1\n",
    "  score = rec[1]\n",
    "  rating = getRatingUserID(uID,testMovieID,df_ratings)\n",
    "  weightedRatingTotal += rating*score\n",
    "\n",
    "ratingPrediction = weightedRatingTotal/len(UsersRated)"
   ]
  },
  {
   "cell_type": "code",
   "execution_count": 41,
   "metadata": {
    "colab": {
     "base_uri": "https://localhost:8080/",
     "height": 34
    },
    "colab_type": "code",
    "id": "jpm5iK7JhTxm",
    "outputId": "45d5ce23-4171-401c-ef5b-6d466ddfea6d"
   },
   "outputs": [
    {
     "name": "stdout",
     "output_type": "stream",
     "text": [
      "The rating prediction by user under subject for movie under subject is:  4.0\n"
     ]
    }
   ],
   "source": [
    "print(\"The rating prediction by user under subject for movie under subject is: \",np.floor(ratingPrediction))\n",
    "#Taking floor or ceil in rating predictions is not good practice but lets take it and will work on it in future"
   ]
  },
  {
   "cell_type": "markdown",
   "metadata": {
    "colab_type": "text",
    "id": "qZRcP_J4U8-E"
   },
   "source": [
    "So we can see that rating predictions for Toy Story by user 90 is 4.125 approx 4(if taking floor although it is not a good practice) so we can recommend the movie to user and we can set a threshold to the rating prediction so that above that value we will recommend movie to user otherwise not recommend."
   ]
  },
  {
   "cell_type": "code",
   "execution_count": null,
   "metadata": {
    "colab": {},
    "colab_type": "code",
    "id": "uGTUMkpjVdJj"
   },
   "outputs": [],
   "source": []
  }
 ],
 "metadata": {
  "colab": {
   "authorship_tag": "ABX9TyNc8bgpdMyjXLNaHLpO9QjR",
   "include_colab_link": true,
   "name": "Recommender systems using collaborative  filtering.ipynb",
   "provenance": []
  },
  "kernelspec": {
   "display_name": "Python 3",
   "language": "python",
   "name": "python3"
  },
  "language_info": {
   "codemirror_mode": {
    "name": "ipython",
    "version": 3
   },
   "file_extension": ".py",
   "mimetype": "text/x-python",
   "name": "python",
   "nbconvert_exporter": "python",
   "pygments_lexer": "ipython3",
   "version": "3.7.4"
  }
 },
 "nbformat": 4,
 "nbformat_minor": 1
}
